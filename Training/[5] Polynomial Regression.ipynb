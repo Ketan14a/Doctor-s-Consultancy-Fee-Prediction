{
 "cells": [
  {
   "cell_type": "code",
   "execution_count": 1,
   "metadata": {},
   "outputs": [
    {
     "name": "stdout",
     "output_type": "stream",
     "text": [
      "All the required packages imported!\n"
     ]
    }
   ],
   "source": [
    "import pandas as pd\n",
    "from sklearn.model_selection import train_test_split\n",
    "import numpy as np\n",
    "from sklearn import metrics  \n",
    "from sklearn.linear_model import LinearRegression\n",
    "from sklearn.preprocessing import PolynomialFeatures\n",
    "from sklearn.metrics import accuracy_score\n",
    "import pickle\n",
    "from sklearn.metrics import mean_squared_error\n",
    "\n",
    "print(\"All the required packages imported!\")"
   ]
  },
  {
   "cell_type": "code",
   "execution_count": 3,
   "metadata": {},
   "outputs": [
    {
     "name": "stdout",
     "output_type": "stream",
     "text": [
      "    Actual   Predicted\n",
      "0      150  289.767688\n",
      "1       50  337.892688\n",
      "2      400  265.267688\n",
      "3      250  347.486438\n",
      "4      300  337.892688\n",
      "5      200  236.892688\n",
      "6      200  325.267688\n",
      "7      300  337.892688\n",
      "8      200  236.017688\n",
      "9      700  334.111438\n",
      "10     300  342.267688\n",
      "11     500 -239.232312\n",
      "12     100  308.486438\n",
      "13     200  224.767688\n",
      "14     100  375.705188\n",
      "The Mean squared error is 32938.358165264115\n"
     ]
    }
   ],
   "source": [
    "# Polynomial Regression\n",
    "DATA = pd.read_csv('FinalTrain.csv')\n",
    "X = DATA.iloc[:,1:-1].values\n",
    "Y = DATA.iloc[:,-1].values\n",
    "X_train, X_test, Y_train, Y_test = train_test_split(X, Y, test_size=0.2, random_state=0) \n",
    "poly = PolynomialFeatures(degree=5)\n",
    "poly_x=poly.fit_transform(X_train)\n",
    "reg = LinearRegression(normalize=True)\n",
    "reg.fit(poly_x,Y_train)\n",
    "Ypred = reg.predict(poly.fit_transform(X_test))\n",
    "df = pd.DataFrame({'Actual': Y_test, 'Predicted': Ypred})  \n",
    "MSE = mean_squared_error(Y_test,Ypred)\n",
    "print(df[0:15])\n",
    "print(\"The Mean squared error is \"+str(MSE))"
   ]
  },
  {
   "cell_type": "code",
   "execution_count": 9,
   "metadata": {},
   "outputs": [
    {
     "name": "stderr",
     "output_type": "stream",
     "text": [
      "/usr/local/lib/python2.7/dist-packages/ipykernel_launcher.py:4: UserWarning: Update your `Dense` call to the Keras 2 API: `Dense(32, activation=\"sigmoid\", kernel_initializer=\"uniform\", input_shape=(5,))`\n",
      "  after removing the cwd from sys.path.\n",
      "/usr/local/lib/python2.7/dist-packages/ipykernel_launcher.py:5: UserWarning: Update your `Dense` call to the Keras 2 API: `Dense(64, activation=\"sigmoid\", kernel_initializer=\"uniform\")`\n",
      "  \"\"\"\n",
      "/usr/local/lib/python2.7/dist-packages/ipykernel_launcher.py:6: UserWarning: Update your `Dense` call to the Keras 2 API: `Dense(64, activation=\"sigmoid\", kernel_initializer=\"uniform\")`\n",
      "  \n",
      "/usr/local/lib/python2.7/dist-packages/ipykernel_launcher.py:7: UserWarning: Update your `Dense` call to the Keras 2 API: `Dense(32, activation=\"sigmoid\", kernel_initializer=\"uniform\")`\n",
      "  import sys\n",
      "/usr/local/lib/python2.7/dist-packages/ipykernel_launcher.py:8: UserWarning: Update your `Dense` call to the Keras 2 API: `Dense(16, activation=\"sigmoid\", kernel_initializer=\"uniform\")`\n",
      "  \n",
      "/usr/local/lib/python2.7/dist-packages/ipykernel_launcher.py:9: UserWarning: Update your `Dense` call to the Keras 2 API: `Dense(1, activation=\"sigmoid\", kernel_initializer=\"uniform\")`\n",
      "  if __name__ == '__main__':\n"
     ]
    },
    {
     "name": "stdout",
     "output_type": "stream",
     "text": [
      "Train on 4171 samples, validate on 1788 samples\n",
      "Epoch 1/10\n",
      "4171/4171 [==============================] - 2s 465us/step - loss: 131523.1090 - acc: 0.0000e+00 - val_loss: 129012.7186 - val_acc: 0.0000e+00\n",
      "Epoch 2/10\n",
      "4171/4171 [==============================] - 1s 176us/step - loss: 131415.9542 - acc: 0.0000e+00 - val_loss: 128992.5718 - val_acc: 0.0000e+00\n",
      "Epoch 3/10\n",
      "4171/4171 [==============================] - 1s 165us/step - loss: 131405.8298 - acc: 0.0000e+00 - val_loss: 128987.6707 - val_acc: 0.0000e+00\n",
      "Epoch 4/10\n",
      "4171/4171 [==============================] - 1s 165us/step - loss: 131402.6309 - acc: 0.0000e+00 - val_loss: 128985.6440 - val_acc: 0.0000e+00\n",
      "Epoch 5/10\n",
      "4171/4171 [==============================] - 1s 173us/step - loss: 131401.1498 - acc: 0.0000e+00 - val_loss: 128984.5863 - val_acc: 0.0000e+00\n",
      "Epoch 6/10\n",
      "4171/4171 [==============================] - 1s 172us/step - loss: 131400.3258 - acc: 0.0000e+00 - val_loss: 128983.9481 - val_acc: 0.0000e+00\n",
      "Epoch 7/10\n",
      "4171/4171 [==============================] - 1s 182us/step - loss: 131399.8115 - acc: 0.0000e+00 - val_loss: 128983.5482 - val_acc: 0.0000e+00\n",
      "Epoch 8/10\n",
      "4171/4171 [==============================] - 1s 200us/step - loss: 131399.4686 - acc: 0.0000e+00 - val_loss: 128983.2538 - val_acc: 0.0000e+00\n",
      "Epoch 9/10\n",
      "4171/4171 [==============================] - 1s 184us/step - loss: 131399.2263 - acc: 0.0000e+00 - val_loss: 128983.0571 - val_acc: 0.0000e+00\n",
      "Epoch 10/10\n",
      "4171/4171 [==============================] - 1s 186us/step - loss: 131399.0484 - acc: 0.0000e+00 - val_loss: 128982.9022 - val_acc: 0.0000e+00\n"
     ]
    },
    {
     "data": {
      "text/plain": [
       "<keras.callbacks.History at 0x7f3d1d657e10>"
      ]
     },
     "execution_count": 9,
     "metadata": {},
     "output_type": "execute_result"
    }
   ],
   "source": [
    "# ANN\n",
    "from keras.models import Sequential\n",
    "from keras.layers import Dense\n",
    "model = Sequential()\n",
    "model.add(Dense(32, input_shape=(5,), init='uniform', activation='sigmoid'))\n",
    "model.add(Dense(64, init='uniform', activation='sigmoid'))\n",
    "model.add(Dense(64, init='uniform', activation='sigmoid'))\n",
    "model.add(Dense(32, init='uniform', activation='sigmoid'))\n",
    "model.add(Dense(16, init='uniform', activation='sigmoid'))\n",
    "model.add(Dense(1, init='uniform', activation='sigmoid'))\n",
    "model.compile(loss='mean_squared_error', optimizer='adam', metrics=['accuracy'])\n",
    "model.fit(X,Y, epochs=10, batch_size=20,verbose=1, validation_split=0.3)"
   ]
  },
  {
   "cell_type": "code",
   "execution_count": 4,
   "metadata": {},
   "outputs": [
    {
     "name": "stdout",
     "output_type": "stream",
     "text": [
      "    Actual   Predicted\n",
      "0      150  328.181818\n",
      "1       50  303.773585\n",
      "2      400  300.000000\n",
      "3      250  341.428571\n",
      "4      300  303.773585\n",
      "5      200  178.500000\n",
      "6      200  311.538462\n",
      "7      300  303.773585\n",
      "8      200  156.666667\n",
      "9      700  258.500000\n",
      "10     300  283.870968\n",
      "11     500  500.000000\n",
      "12     100  356.666667\n",
      "13     200  150.000000\n",
      "14     100  500.000000\n",
      "The Mean squared error is 32938.358165264115\n"
     ]
    }
   ],
   "source": [
    "# Decision Tree \n",
    "from sklearn.tree import DecisionTreeRegressor  \n",
    "regressor = DecisionTreeRegressor()  \n",
    "regressor.fit(X_train, Y_train)  \n",
    "y_pred = regressor.predict(X_test)  \n",
    "df=pd.DataFrame({'Actual':Y_test, 'Predicted':y_pred}) \n",
    "MSE = mean_squared_error(Y_test,Ypred)\n",
    "print(df[0:15])\n",
    "print(\"The Mean squared error is \"+str(MSE))"
   ]
  },
  {
   "cell_type": "code",
   "execution_count": 19,
   "metadata": {},
   "outputs": [
    {
     "name": "stdout",
     "output_type": "stream",
     "text": [
      "    Actual  Predicted\n",
      "0      150        100\n",
      "1       50        100\n",
      "2      400        200\n",
      "3      250        700\n",
      "4      300        250\n",
      "5      200        300\n",
      "6      200        100\n",
      "7      300        300\n",
      "8      200        200\n",
      "9      700        400\n",
      "10     300        500\n",
      "11     500        500\n",
      "12     100        400\n",
      "13     200        200\n",
      "14     100        700\n",
      "The Mean squared error is 46412.6677852349\n",
      "The r2 value is -0.3030338761301421\n"
     ]
    }
   ],
   "source": [
    "# Multilayer Perceptron\n",
    "from sklearn.neural_network import MLPClassifier\n",
    "from sklearn.preprocessing import StandardScaler\n",
    "from sklearn.metrics import mean_squared_error\n",
    "from sklearn.metrics import r2_score\n",
    "scaler = StandardScaler()\n",
    "scaler.fit(X_train)\n",
    "X_train = scaler.transform(X_train)\n",
    "X_test = scaler.transform(X_test)\n",
    "mlp = MLPClassifier(hidden_layer_sizes=(32,64,32))\n",
    "mlp.fit(X_train,Y_train)\n",
    "Ypred = mlp.predict(X_test)\n",
    "df=pd.DataFrame({'Actual':Y_test, 'Predicted':Ypred}) \n",
    "print(df[0:15])\n",
    "MSE = mean_squared_error(Y_test,Ypred)\n",
    "print(\"The Mean squared error is \"+str(MSE))\n",
    "print(\"The r2 value is \"+str(r2_score(Y_test,Ypred)))\n"
   ]
  },
  {
   "cell_type": "code",
   "execution_count": null,
   "metadata": {},
   "outputs": [],
   "source": []
  }
 ],
 "metadata": {
  "kernelspec": {
   "display_name": "Python 2",
   "language": "python",
   "name": "python2"
  },
  "language_info": {
   "codemirror_mode": {
    "name": "ipython",
    "version": 2
   },
   "file_extension": ".py",
   "mimetype": "text/x-python",
   "name": "python",
   "nbconvert_exporter": "python",
   "pygments_lexer": "ipython2",
   "version": "2.7.15+"
  }
 },
 "nbformat": 4,
 "nbformat_minor": 2
}
