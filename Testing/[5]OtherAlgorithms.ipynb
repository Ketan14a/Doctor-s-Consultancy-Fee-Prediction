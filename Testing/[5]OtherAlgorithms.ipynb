{
 "cells": [
  {
   "cell_type": "code",
   "execution_count": 4,
   "metadata": {},
   "outputs": [
    {
     "name": "stdout",
     "output_type": "stream",
     "text": [
      "All the required packages imported!\n"
     ]
    }
   ],
   "source": [
    "import pandas as pd\n",
    "from sklearn.model_selection import train_test_split\n",
    "import numpy as np\n",
    "from sklearn import metrics  \n",
    "from sklearn.linear_model import LinearRegression\n",
    "from sklearn.preprocessing import PolynomialFeatures\n",
    "from sklearn.metrics import accuracy_score\n",
    "import pickle\n",
    "\n",
    "print(\"All the required packages imported!\")"
   ]
  },
  {
   "cell_type": "code",
   "execution_count": 7,
   "metadata": {},
   "outputs": [
    {
     "name": "stdout",
     "output_type": "stream",
     "text": [
      "    Actual     Predicted\n",
      "0      150    339.738985\n",
      "1       50    321.803594\n",
      "2      400    301.402944\n",
      "3      250    405.390679\n",
      "4      300    243.800529\n",
      "5      200    245.097527\n",
      "6      200    197.185329\n",
      "7      300    344.065461\n",
      "8      200    200.759140\n",
      "9      700    413.660856\n",
      "10     300    441.387345\n",
      "11     500 -20839.826460\n",
      "12     100    267.134805\n",
      "13     200    238.956300\n",
      "14     100    424.790434\n"
     ]
    }
   ],
   "source": [
    "# Polynomial Regression\n",
    "DATA = pd.read_csv('FinalTrain.csv')\n",
    "X = DATA.iloc[:,1:-1].values\n",
    "Y = DATA.iloc[:,-1].values\n",
    "X_train, X_test, Y_train, Y_test = train_test_split(X, Y, test_size=0.2, random_state=0) \n",
    "poly = PolynomialFeatures(degree=5)\n",
    "poly_x=poly.fit_transform(X_train)\n",
    "reg = LinearRegression(normalize=True)\n",
    "reg.fit(poly_x,Y_train)\n",
    "Ypred = reg.predict(poly.fit_transform(X_test))\n",
    "df = pd.DataFrame({'Actual': Y_test, 'Predicted': Ypred})  \n",
    "print(df[0:15])"
   ]
  },
  {
   "cell_type": "code",
   "execution_count": 9,
   "metadata": {},
   "outputs": [
    {
     "name": "stderr",
     "output_type": "stream",
     "text": [
      "/usr/local/lib/python2.7/dist-packages/ipykernel_launcher.py:4: UserWarning: Update your `Dense` call to the Keras 2 API: `Dense(32, activation=\"sigmoid\", kernel_initializer=\"uniform\", input_shape=(5,))`\n",
      "  after removing the cwd from sys.path.\n",
      "/usr/local/lib/python2.7/dist-packages/ipykernel_launcher.py:5: UserWarning: Update your `Dense` call to the Keras 2 API: `Dense(64, activation=\"sigmoid\", kernel_initializer=\"uniform\")`\n",
      "  \"\"\"\n",
      "/usr/local/lib/python2.7/dist-packages/ipykernel_launcher.py:6: UserWarning: Update your `Dense` call to the Keras 2 API: `Dense(64, activation=\"sigmoid\", kernel_initializer=\"uniform\")`\n",
      "  \n",
      "/usr/local/lib/python2.7/dist-packages/ipykernel_launcher.py:7: UserWarning: Update your `Dense` call to the Keras 2 API: `Dense(32, activation=\"sigmoid\", kernel_initializer=\"uniform\")`\n",
      "  import sys\n",
      "/usr/local/lib/python2.7/dist-packages/ipykernel_launcher.py:8: UserWarning: Update your `Dense` call to the Keras 2 API: `Dense(16, activation=\"sigmoid\", kernel_initializer=\"uniform\")`\n",
      "  \n",
      "/usr/local/lib/python2.7/dist-packages/ipykernel_launcher.py:9: UserWarning: Update your `Dense` call to the Keras 2 API: `Dense(1, activation=\"sigmoid\", kernel_initializer=\"uniform\")`\n",
      "  if __name__ == '__main__':\n"
     ]
    },
    {
     "name": "stdout",
     "output_type": "stream",
     "text": [
      "Train on 4171 samples, validate on 1788 samples\n",
      "Epoch 1/10\n",
      "4171/4171 [==============================] - 2s 465us/step - loss: 131523.1090 - acc: 0.0000e+00 - val_loss: 129012.7186 - val_acc: 0.0000e+00\n",
      "Epoch 2/10\n",
      "4171/4171 [==============================] - 1s 176us/step - loss: 131415.9542 - acc: 0.0000e+00 - val_loss: 128992.5718 - val_acc: 0.0000e+00\n",
      "Epoch 3/10\n",
      "4171/4171 [==============================] - 1s 165us/step - loss: 131405.8298 - acc: 0.0000e+00 - val_loss: 128987.6707 - val_acc: 0.0000e+00\n",
      "Epoch 4/10\n",
      "4171/4171 [==============================] - 1s 165us/step - loss: 131402.6309 - acc: 0.0000e+00 - val_loss: 128985.6440 - val_acc: 0.0000e+00\n",
      "Epoch 5/10\n",
      "4171/4171 [==============================] - 1s 173us/step - loss: 131401.1498 - acc: 0.0000e+00 - val_loss: 128984.5863 - val_acc: 0.0000e+00\n",
      "Epoch 6/10\n",
      "4171/4171 [==============================] - 1s 172us/step - loss: 131400.3258 - acc: 0.0000e+00 - val_loss: 128983.9481 - val_acc: 0.0000e+00\n",
      "Epoch 7/10\n",
      "4171/4171 [==============================] - 1s 182us/step - loss: 131399.8115 - acc: 0.0000e+00 - val_loss: 128983.5482 - val_acc: 0.0000e+00\n",
      "Epoch 8/10\n",
      "4171/4171 [==============================] - 1s 200us/step - loss: 131399.4686 - acc: 0.0000e+00 - val_loss: 128983.2538 - val_acc: 0.0000e+00\n",
      "Epoch 9/10\n",
      "4171/4171 [==============================] - 1s 184us/step - loss: 131399.2263 - acc: 0.0000e+00 - val_loss: 128983.0571 - val_acc: 0.0000e+00\n",
      "Epoch 10/10\n",
      "4171/4171 [==============================] - 1s 186us/step - loss: 131399.0484 - acc: 0.0000e+00 - val_loss: 128982.9022 - val_acc: 0.0000e+00\n"
     ]
    },
    {
     "data": {
      "text/plain": [
       "<keras.callbacks.History at 0x7f3d1d657e10>"
      ]
     },
     "execution_count": 9,
     "metadata": {},
     "output_type": "execute_result"
    }
   ],
   "source": [
    "# ANN\n",
    "from keras.models import Sequential\n",
    "from keras.layers import Dense\n",
    "model = Sequential()\n",
    "model.add(Dense(32, input_shape=(5,), init='uniform', activation='sigmoid'))\n",
    "model.add(Dense(64, init='uniform', activation='sigmoid'))\n",
    "model.add(Dense(64, init='uniform', activation='sigmoid'))\n",
    "model.add(Dense(32, init='uniform', activation='sigmoid'))\n",
    "model.add(Dense(16, init='uniform', activation='sigmoid'))\n",
    "model.add(Dense(1, init='uniform', activation='sigmoid'))\n",
    "model.compile(loss='mean_squared_error', optimizer='adam', metrics=['accuracy'])\n",
    "model.fit(X,Y, epochs=10, batch_size=20,verbose=1, validation_split=0.3)"
   ]
  },
  {
   "cell_type": "code",
   "execution_count": 11,
   "metadata": {},
   "outputs": [
    {
     "name": "stdout",
     "output_type": "stream",
     "text": [
      "    Actual   Predicted\n",
      "0      150  475.000000\n",
      "1       50  100.000000\n",
      "2      400  200.000000\n",
      "3      250  620.000000\n",
      "4      300  375.000000\n",
      "5      200  116.666667\n",
      "6      200  225.000000\n",
      "7      300  383.333333\n",
      "8      200  175.000000\n",
      "9      700  100.000000\n",
      "10     300  250.000000\n",
      "11     500  200.000000\n",
      "12     100  375.000000\n",
      "13     200  300.000000\n",
      "14     100  400.000000\n"
     ]
    }
   ],
   "source": [
    "# Decision Tree \n",
    "from sklearn.tree import DecisionTreeRegressor  \n",
    "regressor = DecisionTreeRegressor()  \n",
    "regressor.fit(X_train, Y_train)  \n",
    "y_pred = regressor.predict(X_test)  \n",
    "df=pd.DataFrame({'Actual':Y_test, 'Predicted':y_pred}) \n",
    "print(df[0:15])"
   ]
  },
  {
   "cell_type": "code",
   "execution_count": 19,
   "metadata": {},
   "outputs": [
    {
     "name": "stdout",
     "output_type": "stream",
     "text": [
      "    Actual  Predicted\n",
      "0      150        100\n",
      "1       50        100\n",
      "2      400        200\n",
      "3      250        700\n",
      "4      300        250\n",
      "5      200        300\n",
      "6      200        100\n",
      "7      300        300\n",
      "8      200        200\n",
      "9      700        400\n",
      "10     300        500\n",
      "11     500        500\n",
      "12     100        400\n",
      "13     200        200\n",
      "14     100        700\n",
      "The Mean squared error is 46412.6677852349\n",
      "The r2 value is -0.3030338761301421\n"
     ]
    }
   ],
   "source": [
    "# ANN from SKLEARN\n",
    "from sklearn.neural_network import MLPClassifier\n",
    "from sklearn.preprocessing import StandardScaler\n",
    "from sklearn.metrics import mean_squared_error\n",
    "from sklearn.metrics import r2_score\n",
    "scaler = StandardScaler()\n",
    "scaler.fit(X_train)\n",
    "X_train = scaler.transform(X_train)\n",
    "X_test = scaler.transform(X_test)\n",
    "mlp = MLPClassifier(hidden_layer_sizes=(32,64,32))\n",
    "mlp.fit(X_train,Y_train)\n",
    "Ypred = mlp.predict(X_test)\n",
    "df=pd.DataFrame({'Actual':Y_test, 'Predicted':Ypred}) \n",
    "print(df[0:15])\n",
    "MSE = mean_squared_error(Y_test,Ypred)\n",
    "print(\"The Mean squared error is \"+str(MSE))\n",
    "print(\"The r2 value is \"+str(r2_score(Y_test,Ypred)))\n"
   ]
  },
  {
   "cell_type": "code",
   "execution_count": null,
   "metadata": {},
   "outputs": [],
   "source": []
  }
 ],
 "metadata": {
  "kernelspec": {
   "display_name": "Python 2",
   "language": "python",
   "name": "python2"
  },
  "language_info": {
   "codemirror_mode": {
    "name": "ipython",
    "version": 2
   },
   "file_extension": ".py",
   "mimetype": "text/x-python",
   "name": "python",
   "nbconvert_exporter": "python",
   "pygments_lexer": "ipython2",
   "version": "2.7.15+"
  }
 },
 "nbformat": 4,
 "nbformat_minor": 2
}
